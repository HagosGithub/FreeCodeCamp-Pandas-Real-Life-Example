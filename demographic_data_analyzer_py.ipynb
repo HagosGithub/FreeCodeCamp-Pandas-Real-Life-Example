{
  "nbformat": 4,
  "nbformat_minor": 0,
  "metadata": {
    "colab": {
      "provenance": [],
      "authorship_tag": "ABX9TyN/jwovZKaM6SD6PDxINqVq",
      "include_colab_link": true
    },
    "kernelspec": {
      "name": "python3",
      "display_name": "Python 3"
    },
    "language_info": {
      "name": "python"
    }
  },
  "cells": [
    {
      "cell_type": "markdown",
      "metadata": {
        "id": "view-in-github",
        "colab_type": "text"
      },
      "source": [
        "<a href=\"https://colab.research.google.com/github/HagosGithub/FreeCodeCamp-Pandas-Real-Life-Example/blob/master/demographic_data_analyzer_py.ipynb\" target=\"_parent\"><img src=\"https://colab.research.google.com/assets/colab-badge.svg\" alt=\"Open In Colab\"/></a>"
      ]
    },
    {
      "cell_type": "code",
      "metadata": {
        "colab": {
          "base_uri": "https://localhost:8080/",
          "height": 328
        },
        "id": "k_N5RjZsqljN",
        "outputId": "0a111c98-4a8a-44b1-d6db-b48c393ff2f8"
      },
      "source": [
        "import pandas as pd\n",
        "import numpy as np\n",
        "import matplotlib.pyplot as plt\n",
        "import seaborn as sns\n",
        "import plotly.express as px\n",
        "\n",
        "# Import the data\n",
        "url = 'https://raw.githubusercontent.com/JakubPyt/Demographic_Data_Analyzer/main/adult.data.csv'\n",
        "df= pd.read_csv(url,delimiter=';')\n",
        "df.head()\n",
        "df.tail()\n",
        "\n",
        "\n",
        "# Display first five rows of dataset"
      ],
      "execution_count": 2,
      "outputs": [
        {
          "output_type": "execute_result",
          "data": {
            "text/plain": [
              "       age     workclass  fnlwgt   education  education-num  \\\n",
              "32556   27       Private  257302  Assoc-acdm             12   \n",
              "32557   40       Private  154374     HS-grad              9   \n",
              "32558   58       Private  151910     HS-grad              9   \n",
              "32559   22       Private  201490     HS-grad              9   \n",
              "32560   52  Self-emp-inc  287927     HS-grad              9   \n",
              "\n",
              "           marital-status         occupation relationship   race     sex  \\\n",
              "32556  Married-civ-spouse       Tech-support         Wife  White  Female   \n",
              "32557  Married-civ-spouse  Machine-op-inspct      Husband  White    Male   \n",
              "32558             Widowed       Adm-clerical    Unmarried  White  Female   \n",
              "32559       Never-married       Adm-clerical    Own-child  White    Male   \n",
              "32560  Married-civ-spouse    Exec-managerial         Wife  White  Female   \n",
              "\n",
              "       capital-gain  capital-loss  hours-per-week native-country salary  \n",
              "32556             0             0              38  United-States  <=50K  \n",
              "32557             0             0              40  United-States   >50K  \n",
              "32558             0             0              40  United-States  <=50K  \n",
              "32559             0             0              20  United-States  <=50K  \n",
              "32560         15024             0              40  United-States   >50K  "
            ],
            "text/html": [
              "\n",
              "  <div id=\"df-8087b51f-3548-4b2d-a46f-2e20d6f89c66\" class=\"colab-df-container\">\n",
              "    <div>\n",
              "<style scoped>\n",
              "    .dataframe tbody tr th:only-of-type {\n",
              "        vertical-align: middle;\n",
              "    }\n",
              "\n",
              "    .dataframe tbody tr th {\n",
              "        vertical-align: top;\n",
              "    }\n",
              "\n",
              "    .dataframe thead th {\n",
              "        text-align: right;\n",
              "    }\n",
              "</style>\n",
              "<table border=\"1\" class=\"dataframe\">\n",
              "  <thead>\n",
              "    <tr style=\"text-align: right;\">\n",
              "      <th></th>\n",
              "      <th>age</th>\n",
              "      <th>workclass</th>\n",
              "      <th>fnlwgt</th>\n",
              "      <th>education</th>\n",
              "      <th>education-num</th>\n",
              "      <th>marital-status</th>\n",
              "      <th>occupation</th>\n",
              "      <th>relationship</th>\n",
              "      <th>race</th>\n",
              "      <th>sex</th>\n",
              "      <th>capital-gain</th>\n",
              "      <th>capital-loss</th>\n",
              "      <th>hours-per-week</th>\n",
              "      <th>native-country</th>\n",
              "      <th>salary</th>\n",
              "    </tr>\n",
              "  </thead>\n",
              "  <tbody>\n",
              "    <tr>\n",
              "      <th>32556</th>\n",
              "      <td>27</td>\n",
              "      <td>Private</td>\n",
              "      <td>257302</td>\n",
              "      <td>Assoc-acdm</td>\n",
              "      <td>12</td>\n",
              "      <td>Married-civ-spouse</td>\n",
              "      <td>Tech-support</td>\n",
              "      <td>Wife</td>\n",
              "      <td>White</td>\n",
              "      <td>Female</td>\n",
              "      <td>0</td>\n",
              "      <td>0</td>\n",
              "      <td>38</td>\n",
              "      <td>United-States</td>\n",
              "      <td>&lt;=50K</td>\n",
              "    </tr>\n",
              "    <tr>\n",
              "      <th>32557</th>\n",
              "      <td>40</td>\n",
              "      <td>Private</td>\n",
              "      <td>154374</td>\n",
              "      <td>HS-grad</td>\n",
              "      <td>9</td>\n",
              "      <td>Married-civ-spouse</td>\n",
              "      <td>Machine-op-inspct</td>\n",
              "      <td>Husband</td>\n",
              "      <td>White</td>\n",
              "      <td>Male</td>\n",
              "      <td>0</td>\n",
              "      <td>0</td>\n",
              "      <td>40</td>\n",
              "      <td>United-States</td>\n",
              "      <td>&gt;50K</td>\n",
              "    </tr>\n",
              "    <tr>\n",
              "      <th>32558</th>\n",
              "      <td>58</td>\n",
              "      <td>Private</td>\n",
              "      <td>151910</td>\n",
              "      <td>HS-grad</td>\n",
              "      <td>9</td>\n",
              "      <td>Widowed</td>\n",
              "      <td>Adm-clerical</td>\n",
              "      <td>Unmarried</td>\n",
              "      <td>White</td>\n",
              "      <td>Female</td>\n",
              "      <td>0</td>\n",
              "      <td>0</td>\n",
              "      <td>40</td>\n",
              "      <td>United-States</td>\n",
              "      <td>&lt;=50K</td>\n",
              "    </tr>\n",
              "    <tr>\n",
              "      <th>32559</th>\n",
              "      <td>22</td>\n",
              "      <td>Private</td>\n",
              "      <td>201490</td>\n",
              "      <td>HS-grad</td>\n",
              "      <td>9</td>\n",
              "      <td>Never-married</td>\n",
              "      <td>Adm-clerical</td>\n",
              "      <td>Own-child</td>\n",
              "      <td>White</td>\n",
              "      <td>Male</td>\n",
              "      <td>0</td>\n",
              "      <td>0</td>\n",
              "      <td>20</td>\n",
              "      <td>United-States</td>\n",
              "      <td>&lt;=50K</td>\n",
              "    </tr>\n",
              "    <tr>\n",
              "      <th>32560</th>\n",
              "      <td>52</td>\n",
              "      <td>Self-emp-inc</td>\n",
              "      <td>287927</td>\n",
              "      <td>HS-grad</td>\n",
              "      <td>9</td>\n",
              "      <td>Married-civ-spouse</td>\n",
              "      <td>Exec-managerial</td>\n",
              "      <td>Wife</td>\n",
              "      <td>White</td>\n",
              "      <td>Female</td>\n",
              "      <td>15024</td>\n",
              "      <td>0</td>\n",
              "      <td>40</td>\n",
              "      <td>United-States</td>\n",
              "      <td>&gt;50K</td>\n",
              "    </tr>\n",
              "  </tbody>\n",
              "</table>\n",
              "</div>\n",
              "    <div class=\"colab-df-buttons\">\n",
              "\n",
              "  <div class=\"colab-df-container\">\n",
              "    <button class=\"colab-df-convert\" onclick=\"convertToInteractive('df-8087b51f-3548-4b2d-a46f-2e20d6f89c66')\"\n",
              "            title=\"Convert this dataframe to an interactive table.\"\n",
              "            style=\"display:none;\">\n",
              "\n",
              "  <svg xmlns=\"http://www.w3.org/2000/svg\" height=\"24px\" viewBox=\"0 -960 960 960\">\n",
              "    <path d=\"M120-120v-720h720v720H120Zm60-500h600v-160H180v160Zm220 220h160v-160H400v160Zm0 220h160v-160H400v160ZM180-400h160v-160H180v160Zm440 0h160v-160H620v160ZM180-180h160v-160H180v160Zm440 0h160v-160H620v160Z\"/>\n",
              "  </svg>\n",
              "    </button>\n",
              "\n",
              "  <style>\n",
              "    .colab-df-container {\n",
              "      display:flex;\n",
              "      gap: 12px;\n",
              "    }\n",
              "\n",
              "    .colab-df-convert {\n",
              "      background-color: #E8F0FE;\n",
              "      border: none;\n",
              "      border-radius: 50%;\n",
              "      cursor: pointer;\n",
              "      display: none;\n",
              "      fill: #1967D2;\n",
              "      height: 32px;\n",
              "      padding: 0 0 0 0;\n",
              "      width: 32px;\n",
              "    }\n",
              "\n",
              "    .colab-df-convert:hover {\n",
              "      background-color: #E2EBFA;\n",
              "      box-shadow: 0px 1px 2px rgba(60, 64, 67, 0.3), 0px 1px 3px 1px rgba(60, 64, 67, 0.15);\n",
              "      fill: #174EA6;\n",
              "    }\n",
              "\n",
              "    .colab-df-buttons div {\n",
              "      margin-bottom: 4px;\n",
              "    }\n",
              "\n",
              "    [theme=dark] .colab-df-convert {\n",
              "      background-color: #3B4455;\n",
              "      fill: #D2E3FC;\n",
              "    }\n",
              "\n",
              "    [theme=dark] .colab-df-convert:hover {\n",
              "      background-color: #434B5C;\n",
              "      box-shadow: 0px 1px 3px 1px rgba(0, 0, 0, 0.15);\n",
              "      filter: drop-shadow(0px 1px 2px rgba(0, 0, 0, 0.3));\n",
              "      fill: #FFFFFF;\n",
              "    }\n",
              "  </style>\n",
              "\n",
              "    <script>\n",
              "      const buttonEl =\n",
              "        document.querySelector('#df-8087b51f-3548-4b2d-a46f-2e20d6f89c66 button.colab-df-convert');\n",
              "      buttonEl.style.display =\n",
              "        google.colab.kernel.accessAllowed ? 'block' : 'none';\n",
              "\n",
              "      async function convertToInteractive(key) {\n",
              "        const element = document.querySelector('#df-8087b51f-3548-4b2d-a46f-2e20d6f89c66');\n",
              "        const dataTable =\n",
              "          await google.colab.kernel.invokeFunction('convertToInteractive',\n",
              "                                                    [key], {});\n",
              "        if (!dataTable) return;\n",
              "\n",
              "        const docLinkHtml = 'Like what you see? Visit the ' +\n",
              "          '<a target=\"_blank\" href=https://colab.research.google.com/notebooks/data_table.ipynb>data table notebook</a>'\n",
              "          + ' to learn more about interactive tables.';\n",
              "        element.innerHTML = '';\n",
              "        dataTable['output_type'] = 'display_data';\n",
              "        await google.colab.output.renderOutput(dataTable, element);\n",
              "        const docLink = document.createElement('div');\n",
              "        docLink.innerHTML = docLinkHtml;\n",
              "        element.appendChild(docLink);\n",
              "      }\n",
              "    </script>\n",
              "  </div>\n",
              "\n",
              "\n",
              "<div id=\"df-544e423a-6ba2-4a89-98d4-092b87625b32\">\n",
              "  <button class=\"colab-df-quickchart\" onclick=\"quickchart('df-544e423a-6ba2-4a89-98d4-092b87625b32')\"\n",
              "            title=\"Suggest charts\"\n",
              "            style=\"display:none;\">\n",
              "\n",
              "<svg xmlns=\"http://www.w3.org/2000/svg\" height=\"24px\"viewBox=\"0 0 24 24\"\n",
              "     width=\"24px\">\n",
              "    <g>\n",
              "        <path d=\"M19 3H5c-1.1 0-2 .9-2 2v14c0 1.1.9 2 2 2h14c1.1 0 2-.9 2-2V5c0-1.1-.9-2-2-2zM9 17H7v-7h2v7zm4 0h-2V7h2v10zm4 0h-2v-4h2v4z\"/>\n",
              "    </g>\n",
              "</svg>\n",
              "  </button>\n",
              "\n",
              "<style>\n",
              "  .colab-df-quickchart {\n",
              "      --bg-color: #E8F0FE;\n",
              "      --fill-color: #1967D2;\n",
              "      --hover-bg-color: #E2EBFA;\n",
              "      --hover-fill-color: #174EA6;\n",
              "      --disabled-fill-color: #AAA;\n",
              "      --disabled-bg-color: #DDD;\n",
              "  }\n",
              "\n",
              "  [theme=dark] .colab-df-quickchart {\n",
              "      --bg-color: #3B4455;\n",
              "      --fill-color: #D2E3FC;\n",
              "      --hover-bg-color: #434B5C;\n",
              "      --hover-fill-color: #FFFFFF;\n",
              "      --disabled-bg-color: #3B4455;\n",
              "      --disabled-fill-color: #666;\n",
              "  }\n",
              "\n",
              "  .colab-df-quickchart {\n",
              "    background-color: var(--bg-color);\n",
              "    border: none;\n",
              "    border-radius: 50%;\n",
              "    cursor: pointer;\n",
              "    display: none;\n",
              "    fill: var(--fill-color);\n",
              "    height: 32px;\n",
              "    padding: 0;\n",
              "    width: 32px;\n",
              "  }\n",
              "\n",
              "  .colab-df-quickchart:hover {\n",
              "    background-color: var(--hover-bg-color);\n",
              "    box-shadow: 0 1px 2px rgba(60, 64, 67, 0.3), 0 1px 3px 1px rgba(60, 64, 67, 0.15);\n",
              "    fill: var(--button-hover-fill-color);\n",
              "  }\n",
              "\n",
              "  .colab-df-quickchart-complete:disabled,\n",
              "  .colab-df-quickchart-complete:disabled:hover {\n",
              "    background-color: var(--disabled-bg-color);\n",
              "    fill: var(--disabled-fill-color);\n",
              "    box-shadow: none;\n",
              "  }\n",
              "\n",
              "  .colab-df-spinner {\n",
              "    border: 2px solid var(--fill-color);\n",
              "    border-color: transparent;\n",
              "    border-bottom-color: var(--fill-color);\n",
              "    animation:\n",
              "      spin 1s steps(1) infinite;\n",
              "  }\n",
              "\n",
              "  @keyframes spin {\n",
              "    0% {\n",
              "      border-color: transparent;\n",
              "      border-bottom-color: var(--fill-color);\n",
              "      border-left-color: var(--fill-color);\n",
              "    }\n",
              "    20% {\n",
              "      border-color: transparent;\n",
              "      border-left-color: var(--fill-color);\n",
              "      border-top-color: var(--fill-color);\n",
              "    }\n",
              "    30% {\n",
              "      border-color: transparent;\n",
              "      border-left-color: var(--fill-color);\n",
              "      border-top-color: var(--fill-color);\n",
              "      border-right-color: var(--fill-color);\n",
              "    }\n",
              "    40% {\n",
              "      border-color: transparent;\n",
              "      border-right-color: var(--fill-color);\n",
              "      border-top-color: var(--fill-color);\n",
              "    }\n",
              "    60% {\n",
              "      border-color: transparent;\n",
              "      border-right-color: var(--fill-color);\n",
              "    }\n",
              "    80% {\n",
              "      border-color: transparent;\n",
              "      border-right-color: var(--fill-color);\n",
              "      border-bottom-color: var(--fill-color);\n",
              "    }\n",
              "    90% {\n",
              "      border-color: transparent;\n",
              "      border-bottom-color: var(--fill-color);\n",
              "    }\n",
              "  }\n",
              "</style>\n",
              "\n",
              "  <script>\n",
              "    async function quickchart(key) {\n",
              "      const quickchartButtonEl =\n",
              "        document.querySelector('#' + key + ' button');\n",
              "      quickchartButtonEl.disabled = true;  // To prevent multiple clicks.\n",
              "      quickchartButtonEl.classList.add('colab-df-spinner');\n",
              "      try {\n",
              "        const charts = await google.colab.kernel.invokeFunction(\n",
              "            'suggestCharts', [key], {});\n",
              "      } catch (error) {\n",
              "        console.error('Error during call to suggestCharts:', error);\n",
              "      }\n",
              "      quickchartButtonEl.classList.remove('colab-df-spinner');\n",
              "      quickchartButtonEl.classList.add('colab-df-quickchart-complete');\n",
              "    }\n",
              "    (() => {\n",
              "      let quickchartButtonEl =\n",
              "        document.querySelector('#df-544e423a-6ba2-4a89-98d4-092b87625b32 button');\n",
              "      quickchartButtonEl.style.display =\n",
              "        google.colab.kernel.accessAllowed ? 'block' : 'none';\n",
              "    })();\n",
              "  </script>\n",
              "</div>\n",
              "\n",
              "    </div>\n",
              "  </div>\n"
            ],
            "application/vnd.google.colaboratory.intrinsic+json": {
              "type": "dataframe",
              "summary": "{\n  \"name\": \"# Display first five rows of dataset\",\n  \"rows\": 5,\n  \"fields\": [\n    {\n      \"column\": \"age\",\n      \"properties\": {\n        \"dtype\": \"number\",\n        \"std\": 15,\n        \"min\": 22,\n        \"max\": 58,\n        \"num_unique_values\": 5,\n        \"samples\": [\n          40,\n          52,\n          58\n        ],\n        \"semantic_type\": \"\",\n        \"description\": \"\"\n      }\n    },\n    {\n      \"column\": \"workclass\",\n      \"properties\": {\n        \"dtype\": \"category\",\n        \"num_unique_values\": 2,\n        \"samples\": [\n          \"Self-emp-inc\",\n          \"Private\"\n        ],\n        \"semantic_type\": \"\",\n        \"description\": \"\"\n      }\n    },\n    {\n      \"column\": \"fnlwgt\",\n      \"properties\": {\n        \"dtype\": \"number\",\n        \"std\": 60929,\n        \"min\": 151910,\n        \"max\": 287927,\n        \"num_unique_values\": 5,\n        \"samples\": [\n          154374,\n          287927\n        ],\n        \"semantic_type\": \"\",\n        \"description\": \"\"\n      }\n    },\n    {\n      \"column\": \"education\",\n      \"properties\": {\n        \"dtype\": \"category\",\n        \"num_unique_values\": 2,\n        \"samples\": [\n          \"HS-grad\",\n          \"Assoc-acdm\"\n        ],\n        \"semantic_type\": \"\",\n        \"description\": \"\"\n      }\n    },\n    {\n      \"column\": \"education-num\",\n      \"properties\": {\n        \"dtype\": \"number\",\n        \"std\": 1,\n        \"min\": 9,\n        \"max\": 12,\n        \"num_unique_values\": 2,\n        \"samples\": [\n          9,\n          12\n        ],\n        \"semantic_type\": \"\",\n        \"description\": \"\"\n      }\n    },\n    {\n      \"column\": \"marital-status\",\n      \"properties\": {\n        \"dtype\": \"string\",\n        \"num_unique_values\": 3,\n        \"samples\": [\n          \"Married-civ-spouse\",\n          \"Widowed\"\n        ],\n        \"semantic_type\": \"\",\n        \"description\": \"\"\n      }\n    },\n    {\n      \"column\": \"occupation\",\n      \"properties\": {\n        \"dtype\": \"string\",\n        \"num_unique_values\": 4,\n        \"samples\": [\n          \"Machine-op-inspct\",\n          \"Exec-managerial\"\n        ],\n        \"semantic_type\": \"\",\n        \"description\": \"\"\n      }\n    },\n    {\n      \"column\": \"relationship\",\n      \"properties\": {\n        \"dtype\": \"string\",\n        \"num_unique_values\": 4,\n        \"samples\": [\n          \"Husband\",\n          \"Own-child\"\n        ],\n        \"semantic_type\": \"\",\n        \"description\": \"\"\n      }\n    },\n    {\n      \"column\": \"race\",\n      \"properties\": {\n        \"dtype\": \"category\",\n        \"num_unique_values\": 1,\n        \"samples\": [\n          \"White\"\n        ],\n        \"semantic_type\": \"\",\n        \"description\": \"\"\n      }\n    },\n    {\n      \"column\": \"sex\",\n      \"properties\": {\n        \"dtype\": \"category\",\n        \"num_unique_values\": 2,\n        \"samples\": [\n          \"Male\"\n        ],\n        \"semantic_type\": \"\",\n        \"description\": \"\"\n      }\n    },\n    {\n      \"column\": \"capital-gain\",\n      \"properties\": {\n        \"dtype\": \"number\",\n        \"std\": 6718,\n        \"min\": 0,\n        \"max\": 15024,\n        \"num_unique_values\": 2,\n        \"samples\": [\n          15024\n        ],\n        \"semantic_type\": \"\",\n        \"description\": \"\"\n      }\n    },\n    {\n      \"column\": \"capital-loss\",\n      \"properties\": {\n        \"dtype\": \"number\",\n        \"std\": 0,\n        \"min\": 0,\n        \"max\": 0,\n        \"num_unique_values\": 1,\n        \"samples\": [\n          0\n        ],\n        \"semantic_type\": \"\",\n        \"description\": \"\"\n      }\n    },\n    {\n      \"column\": \"hours-per-week\",\n      \"properties\": {\n        \"dtype\": \"number\",\n        \"std\": 8,\n        \"min\": 20,\n        \"max\": 40,\n        \"num_unique_values\": 3,\n        \"samples\": [\n          38\n        ],\n        \"semantic_type\": \"\",\n        \"description\": \"\"\n      }\n    },\n    {\n      \"column\": \"native-country\",\n      \"properties\": {\n        \"dtype\": \"category\",\n        \"num_unique_values\": 1,\n        \"samples\": [\n          \"United-States\"\n        ],\n        \"semantic_type\": \"\",\n        \"description\": \"\"\n      }\n    },\n    {\n      \"column\": \"salary\",\n      \"properties\": {\n        \"dtype\": \"category\",\n        \"num_unique_values\": 2,\n        \"samples\": [\n          \">50K\"\n        ],\n        \"semantic_type\": \"\",\n        \"description\": \"\"\n      }\n    }\n  ]\n}"
            }
          },
          "metadata": {},
          "execution_count": 2
        }
      ]
    },
    {
      "cell_type": "code",
      "source": [
        "race_count=df.race.value_counts()\n",
        "print(race_count)"
      ],
      "metadata": {
        "colab": {
          "base_uri": "https://localhost:8080/"
        },
        "id": "0F9c7AO5Xhts",
        "outputId": "0dd79159-c520-4126-f414-3b0401b0fb6d"
      },
      "execution_count": 3,
      "outputs": [
        {
          "output_type": "stream",
          "name": "stdout",
          "text": [
            "White                 27816\n",
            "Black                  3124\n",
            "Asian-Pac-Islander     1039\n",
            "Amer-Indian-Eskimo      311\n",
            "Other                   271\n",
            "Name: race, dtype: int64\n"
          ]
        }
      ]
    },
    {
      "cell_type": "code",
      "source": [
        "age_man = round(df[df['sex'] == 'Male'] [\"age\"].mean())\n",
        "print(\"Average Age of Man:\",age_man)"
      ],
      "metadata": {
        "colab": {
          "base_uri": "https://localhost:8080/"
        },
        "id": "ex9L4VNnoi8A",
        "outputId": "20752f80-437d-409d-cac1-135e64d0bc9b"
      },
      "execution_count": 4,
      "outputs": [
        {
          "output_type": "stream",
          "name": "stdout",
          "text": [
            "Average Age of Man: 39\n"
          ]
        }
      ]
    },
    {
      "cell_type": "markdown",
      "source": [
        "##percentage people who have BA Degree"
      ],
      "metadata": {
        "id": "iXKQOQpMMY3H"
      }
    },
    {
      "cell_type": "code",
      "source": [
        "Pab=len(df[df['education']=='Bachelors'])\n",
        "pp=round(Pab/ len(df)*100)\n",
        "print(\"percentage:\" ,pp)"
      ],
      "metadata": {
        "colab": {
          "base_uri": "https://localhost:8080/"
        },
        "id": "8Okwi9xBK6xj",
        "outputId": "8cef3955-2155-4240-d3b0-0c6f1353a82b"
      },
      "execution_count": 5,
      "outputs": [
        {
          "output_type": "stream",
          "name": "stdout",
          "text": [
            "percentage: 16\n"
          ]
        }
      ]
    },
    {
      "cell_type": "markdown",
      "source": [
        "percentage of peoples who have Advanced Degree(BA,Masters,PHD)"
      ],
      "metadata": {
        "id": "oXJglB2hMxo_"
      }
    },
    {
      "cell_type": "code",
      "source": [
        "adv= len(df[(df['education'].isin([\"Bachelors\", \"Masters\", \"Doctorate\"]))\n",
        "                                  & (df['salary'] == \">50K\")])\n",
        "\n",
        "percentage = round((adv / len(df)) * 100)\n",
        "\n",
        "print(\"percentage of BA,MA,PHD:\",percentage)"
      ],
      "metadata": {
        "colab": {
          "base_uri": "https://localhost:8080/"
        },
        "id": "DbaB1M5JL587",
        "outputId": "3f875579-20ee-4f4c-f235-fab31c666e6a"
      },
      "execution_count": 6,
      "outputs": [
        {
          "output_type": "stream",
          "name": "stdout",
          "text": [
            "percentage of BA,MA,PHD: 11\n"
          ]
        }
      ]
    },
    {
      "cell_type": "markdown",
      "source": [
        "##Percentage of People who donot have advanced education"
      ],
      "metadata": {
        "id": "aQ6mBM5pOSVS"
      }
    },
    {
      "cell_type": "code",
      "source": [
        "nae = len(df[~df['education'].isin([\"Bachelors\", \"Masters\", \"Doctorate\"])])\n",
        "naeincome = len(df[(~df['education'].isin([\"Bachelors\", \"Masters\", \"Doctorate\"])) & (df['salary'] == \">50K\")])\n",
        "\n",
        "percentageofnae = round((naeincome / nae) * 100)\n",
        "\n",
        "print(percentageofnae)"
      ],
      "metadata": {
        "colab": {
          "base_uri": "https://localhost:8080/"
        },
        "id": "Cu8E4nTtONit",
        "outputId": "3ed50c2e-a816-4185-aaf1-146a19c3687c"
      },
      "execution_count": 7,
      "outputs": [
        {
          "output_type": "stream",
          "name": "stdout",
          "text": [
            "17\n"
          ]
        }
      ]
    },
    {
      "cell_type": "markdown",
      "source": [
        "###Minumam working hours/weeks"
      ],
      "metadata": {
        "id": "d1v3aoLGgmcr"
      }
    },
    {
      "cell_type": "code",
      "source": [
        "print(\"Miumam Working Hourse:\",df['hours-per-week'].min())"
      ],
      "metadata": {
        "id": "Isr8a2lxOP7t",
        "colab": {
          "base_uri": "https://localhost:8080/"
        },
        "outputId": "bc1a7b47-9e42-4d9f-eb30-399f03bcb37d"
      },
      "execution_count": null,
      "outputs": [
        {
          "output_type": "stream",
          "name": "stdout",
          "text": [
            "Miumam Working Hourse: 1\n"
          ]
        }
      ]
    },
    {
      "cell_type": "markdown",
      "source": [
        "#min. work hours/week (>50k salary)"
      ],
      "metadata": {
        "id": "ZHnPzSOohRup"
      }
    },
    {
      "cell_type": "code",
      "source": [
        "min_hours_workers = len(df[df['hours-per-week'] == df['hours-per-week'].min()])\n",
        "min_hours_income = len(df[(df['hours-per-week'] == df['hours-per-week'].min()) & (df['salary'] == '>50K')])\n",
        "\n",
        "percentage_min_hours = (min_hours_income / min_hours_workers) * 100\n",
        "\n",
        "print(\"Minumam workig hours>50k salary:\",percentage_min_hours)"
      ],
      "metadata": {
        "colab": {
          "base_uri": "https://localhost:8080/"
        },
        "id": "WN78d-FjglYv",
        "outputId": "b5edf44e-23c5-430e-b289-481844c2eaed"
      },
      "execution_count": null,
      "outputs": [
        {
          "output_type": "stream",
          "name": "stdout",
          "text": [
            "Minumam workig hours>50k salary: 10.0\n"
          ]
        }
      ]
    },
    {
      "cell_type": "markdown",
      "source": [
        "##Highest workig Hourses >50k Salary"
      ],
      "metadata": {
        "id": "eZ7sgEALiyeI"
      }
    },
    {
      "cell_type": "code",
      "source": [
        "high_income_country = (df[df['salary'] == '>50K']['native-country'].value_counts() / df['native-country'].value_counts()) * 100\n",
        "\n",
        "country_high_income = high_income_country.idxmax()\n",
        "percentage_workers = round(high_income_country.max())\n",
        "\n",
        "print(f\"The country is {country_high_income}\")\n",
        "print(f\"The percentage is {percentage_workers:.2f}%\")"
      ],
      "metadata": {
        "colab": {
          "base_uri": "https://localhost:8080/"
        },
        "id": "TI_gaktujHh9",
        "outputId": "945880fc-1064-48f1-90de-7e488627fead"
      },
      "execution_count": 8,
      "outputs": [
        {
          "output_type": "stream",
          "name": "stdout",
          "text": [
            "The country is Iran\n",
            "The percentage is 42.00%\n"
          ]
        }
      ]
    },
    {
      "cell_type": "markdown",
      "source": [
        "##Most popular occuption in India (earn>50k)"
      ],
      "metadata": {
        "id": "oJZN_wP5jo8n"
      }
    },
    {
      "cell_type": "code",
      "source": [
        "hi_occupation = df[(df['salary'] == '>50K') & (df['native-country'] == 'India')]['occupation']\n",
        "most_popular_occ = hi_occupation.value_counts().idxmax()\n",
        "\n",
        "print(\"most popular occupation in indian:\",most_popular_occ)"
      ],
      "metadata": {
        "colab": {
          "base_uri": "https://localhost:8080/"
        },
        "id": "nclKef9ljoD8",
        "outputId": "d8a2b23b-d5d2-4640-c849-16a8bb42839a"
      },
      "execution_count": 9,
      "outputs": [
        {
          "output_type": "stream",
          "name": "stdout",
          "text": [
            "most popular occupation in indian: Prof-specialty\n"
          ]
        }
      ]
    },
    {
      "cell_type": "markdown",
      "source": [
        "#Using Functions"
      ],
      "metadata": {
        "id": "R1XA8xvQWRXL"
      }
    },
    {
      "cell_type": "code",
      "source": [
        "def calculate_Demographic_DataAalysis(print_data=True):\n",
        "  url = 'https://raw.githubusercontent.com/JakubPyt/Demographic_Data_Analyzer/main/adult.data.csv'\n",
        "  df= pd.read_csv(url,delimiter=';')\n",
        "  df.head()\n",
        "  df.tail()\n",
        "  print(\"===First Question===\")\n",
        "  race_count=df.race.value_counts()\n",
        "  print(race_count)\n",
        "  print(\"===Second Question===\")\n",
        "  age_man = round(df[df['sex'] == 'Male'] [\"age\"].mean())\n",
        "  print(\"Average Age of Man:\",age_man)\n",
        "  print(\"===Third Question===\")\n",
        "  Pab=len(df[df['education']=='Bachelors'])\n",
        "  pp=round(Pab/ len(df)*100)\n",
        "  print(\"percentage:\" ,pp)\n",
        "  print(\"===Fourth Question===\")\n",
        "  adv= len(df[(df['education'].isin([\"Bachelors\", \"Masters\", \"Doctorate\"]))\n",
        "                                  & (df['salary'] == \">50K\")])\n",
        "  percentage = round((adv / len(df)) * 100)\n",
        "  print(\"percentage of BA,MA,PHD:\",percentage)\n",
        "  print(\"===Fifth Question===\")\n",
        "  nae = len(df[~df['education'].isin([\"Bachelors\", \"Masters\", \"Doctorate\"])])\n",
        "  naeincome = len(df[(~df['education'].isin([\"Bachelors\", \"Masters\", \"Doctorate\"])) & (df['salary'] == \">50K\")])\n",
        "  percentageofnae = round((naeincome / nae) * 100)\n",
        "  print(percentageofnae)\n",
        "  print(\"===Sixth Question===\")\n",
        "  print(\"Miumam Working Hourse:\",df['hours-per-week'].min())\n",
        "  print(\"===Seventh Question===\")\n",
        "  min_hours_workers = len(df[df['hours-per-week'] == df['hours-per-week'].min()])\n",
        "  min_hours_income = len(df[(df['hours-per-week'] == df['hours-per-week'].min()) & (df['salary'] == '>50K')])\n",
        "  percentage_min_hours = (min_hours_income / min_hours_workers) * 100\n",
        "  print(\"Minumam workig hours>50k salary:\",percentage_min_hours)\n",
        "  print(\"===Eighth Question===\")\n",
        "\n",
        "  high_income_country = (df[df['salary'] == '>50K']['native-country'].value_counts() / df['native-country'].value_counts()) * 100\n",
        "  country_high_income = high_income_country.idxmax()\n",
        "  percentage_workers = round(high_income_country.max())\n",
        "  print(f\"The country is {country_high_income}\")\n",
        "  print(f\"The percentage is {percentage_workers:.2f}%\")\n",
        "  print(\"===Ninth Question===\")\n",
        "  hi_occupation = df[(df['salary'] == '>50K') & (df['native-country'] == 'India')]['occupation']\n",
        "  most_popular_occ = hi_occupation.value_counts().idxmax()\n",
        "  print(\"most popular occupation in indian:\",most_popular_occ)\n",
        "\n",
        "  return 0\n",
        "calculate_Demographic_DataAalysis(False)\n",
        "\n",
        "\n",
        "\n",
        "\n",
        "\n",
        "\n",
        "\n"
      ],
      "metadata": {
        "colab": {
          "base_uri": "https://localhost:8080/"
        },
        "id": "Y1V1XjqgQSIU",
        "outputId": "357679a4-890e-486f-d050-52df4aa569b0"
      },
      "execution_count": 24,
      "outputs": [
        {
          "output_type": "stream",
          "name": "stdout",
          "text": [
            "===First Question===\n",
            "White                 27816\n",
            "Black                  3124\n",
            "Asian-Pac-Islander     1039\n",
            "Amer-Indian-Eskimo      311\n",
            "Other                   271\n",
            "Name: race, dtype: int64\n",
            "===Second Question===\n",
            "Average Age of Man: 39\n",
            "===Third Question===\n",
            "percentage: 16\n",
            "===Fourth Question===\n",
            "percentage of BA,MA,PHD: 11\n",
            "===Fifth Question===\n",
            "17\n",
            "===Sixth Question===\n",
            "Miumam Working Hourse: 1\n",
            "===Seventh Question===\n",
            "Minumam workig hours>50k salary: 10.0\n",
            "===Eighth Question===\n",
            "The country is Iran\n",
            "The percentage is 42.00%\n",
            "===Ninth Question===\n",
            "most popular occupation in indian: Prof-specialty\n"
          ]
        },
        {
          "output_type": "execute_result",
          "data": {
            "text/plain": [
              "0"
            ]
          },
          "metadata": {},
          "execution_count": 24
        }
      ]
    },
    {
      "cell_type": "markdown",
      "source": [
        "#Testing"
      ],
      "metadata": {
        "id": "7JsanRZAZ2qy"
      }
    },
    {
      "cell_type": "code",
      "source": [
        "import unittest"
      ],
      "metadata": {
        "id": "4BlL7s4gZ11P"
      },
      "execution_count": 26,
      "outputs": []
    },
    {
      "cell_type": "code",
      "source": [
        "class DemographicAnalyzerTestCase(unittest.TestCase):\n",
        "    def setUp(self):\n",
        "        self.data = calculate_Demographic_DataAalysis(print_data=False)\n",
        "\n",
        "    def test_race_count(self):\n",
        "        actual = self.data[\"race_count\"].tolist()\n",
        "        expected = [27816, 3124, 1039, 311, 271]\n",
        "        self.assertAlmostEqual(\n",
        "            actual,\n",
        "            expected,\n",
        "            msg=\"Expected race count values to be [27816, 3124, 1039, 311, 271]\",\n",
        "        )\n",
        "\n",
        "    def test_average_age_men(self):\n",
        "        actual = self.data[\"age_men\"]\n",
        "        expected = 39\n",
        "        self.assertAlmostEqual(\n",
        "            actual,\n",
        "            expected,\n",
        "            msg=\"Expected different value for average age of men.\",\n",
        "        )\n",
        "\n",
        "    def test_percentage_bachelors(self):\n",
        "        actual = self.data[\"percentage_bachelors\"]\n",
        "        expected = 16\n",
        "        self.assertAlmostEqual(\n",
        "            actual,\n",
        "            expected,\n",
        "            msg=\"Expected different value for percentage with Bachelors degrees.\",\n",
        "        )\n",
        "\n",
        "    def test_higher_education_rich(self):\n",
        "        actual = self.data[\"higher_education_rich\"]\n",
        "        expected = 46.5\n",
        "        self.assertAlmostEqual(\n",
        "            actual,\n",
        "            expected,\n",
        "            msg=\"Expected different value for percentage with higher education that earn >50K.\",\n",
        "        )\n",
        "\n",
        "    def test_lower_education_rich(self):\n",
        "        actual = self.data[\"lower_education_rich\"]\n",
        "        expected = 17\n",
        "        self.assertAlmostEqual(\n",
        "            actual,\n",
        "            expected,\n",
        "            msg=\"Expected different value for percentage without higher education that earn >50K.\",\n",
        "        )\n",
        "\n",
        "    def test_min_work_hours(self):\n",
        "        actual = self.data[\"min_work_hours\"]\n",
        "        expected = 1\n",
        "        self.assertAlmostEqual(\n",
        "            actual,\n",
        "            expected,\n",
        "            msg=\"Expected different value for minimum work hours.\",\n",
        "        )\n",
        "\n",
        "    def test_rich_percentage(self):\n",
        "        actual = self.data[\"rich_percentage\"]\n",
        "        expected = 10\n",
        "        self.assertAlmostEqual(\n",
        "            actual,\n",
        "            expected,\n",
        "            msg=\"Expected different value for percentage of rich among those who work fewest hours.\",\n",
        "        )\n",
        "\n",
        "    def test_highest_earning_country(self):\n",
        "        actual = self.data[\"highest_earning_country\"]\n",
        "        expected = \"Iran\"\n",
        "        self.assertEqual(\n",
        "            actual,\n",
        "            expected,\n",
        "            \"Expected different value for highest earning country.\",\n",
        "        )\n",
        "\n",
        "    def test_highest_earning_country_percentage(self):\n",
        "        actual = self.data[\"highest_earning_country_percentage\"]\n",
        "        expected = 42\n",
        "        self.assertAlmostEqual(\n",
        "            actual,\n",
        "            expected,\n",
        "            msg=\"Expected different value for heighest earning country percentage.\",\n",
        "        )\n",
        "\n",
        "    def test_top_IN_occupation(self):\n",
        "        actual = self.data[\"top_IN_occupation\"]\n",
        "        expected = \"Prof-specialty\"\n",
        "        self.assertEqual(\n",
        "            actual,\n",
        "            expected,\n",
        "            \"Expected different value for top occupations in India.\",\n",
        "        )"
      ],
      "metadata": {
        "id": "YX7jvCFeaCPe"
      },
      "execution_count": 29,
      "outputs": []
    },
    {
      "cell_type": "code",
      "source": [
        "if __name__ == \"__main__\":\n",
        "    unittest.main(argv=[\"first-arg-is-ignored\"], exit=False)"
      ],
      "metadata": {
        "colab": {
          "base_uri": "https://localhost:8080/"
        },
        "id": "k9SAv-NCcGYm",
        "outputId": "6e641068-caaf-4672-9b7d-22521c5d4c8e"
      },
      "execution_count": 30,
      "outputs": [
        {
          "output_type": "stream",
          "name": "stderr",
          "text": [
            "E"
          ]
        },
        {
          "output_type": "stream",
          "name": "stdout",
          "text": [
            "===First Question===\n",
            "White                 27816\n",
            "Black                  3124\n",
            "Asian-Pac-Islander     1039\n",
            "Amer-Indian-Eskimo      311\n",
            "Other                   271\n",
            "Name: race, dtype: int64\n",
            "===Second Question===\n",
            "Average Age of Man: 39\n",
            "===Third Question===\n",
            "percentage: 16\n",
            "===Fourth Question===\n",
            "percentage of BA,MA,PHD: 11\n",
            "===Fifth Question===\n",
            "17\n",
            "===Sixth Question===\n",
            "Miumam Working Hourse: 1\n",
            "===Seventh Question===\n",
            "Minumam workig hours>50k salary: 10.0\n",
            "===Eighth Question===\n",
            "The country is Iran\n",
            "The percentage is 42.00%\n",
            "===Ninth Question===\n",
            "most popular occupation in indian: Prof-specialty\n",
            "===First Question===\n",
            "White                 27816\n",
            "Black                  3124\n",
            "Asian-Pac-Islander     1039\n",
            "Amer-Indian-Eskimo      311\n",
            "Other                   271\n",
            "Name: race, dtype: int64\n",
            "===Second Question===\n",
            "Average Age of Man: 39\n",
            "===Third Question===\n",
            "percentage: 16\n",
            "===Fourth Question===\n",
            "percentage of BA,MA,PHD: 11\n",
            "===Fifth Question===\n"
          ]
        },
        {
          "output_type": "stream",
          "name": "stderr",
          "text": [
            "EE"
          ]
        },
        {
          "output_type": "stream",
          "name": "stdout",
          "text": [
            "17\n",
            "===Sixth Question===\n",
            "Miumam Working Hourse: 1\n",
            "===Seventh Question===\n",
            "Minumam workig hours>50k salary: 10.0\n",
            "===Eighth Question===\n",
            "The country is Iran\n",
            "The percentage is 42.00%\n",
            "===Ninth Question===\n",
            "most popular occupation in indian: Prof-specialty\n",
            "===First Question===\n",
            "White                 27816\n",
            "Black                  3124\n",
            "Asian-Pac-Islander     1039\n",
            "Amer-Indian-Eskimo      311\n",
            "Other                   271\n",
            "Name: race, dtype: int64\n",
            "===Second Question===\n",
            "Average Age of Man: 39\n",
            "===Third Question===\n",
            "percentage: 16\n",
            "===Fourth Question===\n",
            "percentage of BA,MA,PHD: 11\n",
            "===Fifth Question===\n",
            "17\n",
            "===Sixth Question===\n",
            "Miumam Working Hourse: 1\n",
            "===Seventh Question===\n",
            "Minumam workig hours>50k salary: 10.0\n",
            "===Eighth Question===\n",
            "The country is Iran\n",
            "The percentage is 42.00%\n",
            "===Ninth Question===\n",
            "most popular occupation in indian: Prof-specialty\n"
          ]
        },
        {
          "output_type": "stream",
          "name": "stderr",
          "text": [
            "E"
          ]
        },
        {
          "output_type": "stream",
          "name": "stdout",
          "text": [
            "===First Question===\n",
            "White                 27816\n",
            "Black                  3124\n",
            "Asian-Pac-Islander     1039\n",
            "Amer-Indian-Eskimo      311\n",
            "Other                   271\n",
            "Name: race, dtype: int64\n",
            "===Second Question===\n",
            "Average Age of Man: 39\n",
            "===Third Question===\n",
            "percentage: 16\n",
            "===Fourth Question===\n",
            "percentage of BA,MA,PHD: 11\n",
            "===Fifth Question===\n",
            "17\n",
            "===Sixth Question===\n",
            "Miumam Working Hourse: 1\n",
            "===Seventh Question===\n",
            "Minumam workig hours>50k salary: 10.0\n",
            "===Eighth Question===\n",
            "The country is Iran\n",
            "The percentage is 42.00%\n",
            "===Ninth Question===\n",
            "most popular occupation in indian: Prof-specialty\n",
            "===First Question===\n",
            "White                 27816\n",
            "Black                  3124\n",
            "Asian-Pac-Islander     1039\n",
            "Amer-Indian-Eskimo      311\n",
            "Other                   271\n",
            "Name: race, dtype: int64\n",
            "===Second Question===\n",
            "Average Age of Man: 39\n",
            "===Third Question===\n",
            "percentage: 16\n",
            "===Fourth Question===\n",
            "percentage of BA,MA,PHD: 11\n",
            "===Fifth Question===\n",
            "17\n",
            "===Sixth Question===\n",
            "Miumam Working Hourse: 1\n",
            "===Seventh Question===\n"
          ]
        },
        {
          "output_type": "stream",
          "name": "stderr",
          "text": [
            "EE"
          ]
        },
        {
          "output_type": "stream",
          "name": "stdout",
          "text": [
            "Minumam workig hours>50k salary: 10.0\n",
            "===Eighth Question===\n",
            "The country is Iran\n",
            "The percentage is 42.00%\n",
            "===Ninth Question===\n",
            "most popular occupation in indian: Prof-specialty\n",
            "===First Question===\n",
            "White                 27816\n",
            "Black                  3124\n",
            "Asian-Pac-Islander     1039\n",
            "Amer-Indian-Eskimo      311\n",
            "Other                   271\n",
            "Name: race, dtype: int64\n",
            "===Second Question===\n",
            "Average Age of Man: 39\n",
            "===Third Question===\n",
            "percentage: 16\n",
            "===Fourth Question===\n",
            "percentage of BA,MA,PHD: 11\n",
            "===Fifth Question===\n",
            "17\n",
            "===Sixth Question===\n",
            "Miumam Working Hourse: 1\n",
            "===Seventh Question===\n",
            "Minumam workig hours>50k salary: 10.0\n",
            "===Eighth Question===\n",
            "The country is Iran\n",
            "The percentage is 42.00%\n",
            "===Ninth Question===\n",
            "most popular occupation in indian: Prof-specialty\n"
          ]
        },
        {
          "output_type": "stream",
          "name": "stderr",
          "text": [
            "E"
          ]
        },
        {
          "output_type": "stream",
          "name": "stdout",
          "text": [
            "===First Question===\n",
            "White                 27816\n",
            "Black                  3124\n",
            "Asian-Pac-Islander     1039\n",
            "Amer-Indian-Eskimo      311\n",
            "Other                   271\n",
            "Name: race, dtype: int64\n",
            "===Second Question===\n",
            "Average Age of Man: 39\n",
            "===Third Question===\n",
            "percentage: 16\n",
            "===Fourth Question===\n",
            "percentage of BA,MA,PHD: 11\n",
            "===Fifth Question===\n",
            "17\n",
            "===Sixth Question===\n",
            "Miumam Working Hourse: 1\n",
            "===Seventh Question===\n",
            "Minumam workig hours>50k salary: 10.0\n",
            "===Eighth Question===\n",
            "The country is Iran\n",
            "The percentage is 42.00%\n",
            "===Ninth Question===\n",
            "most popular occupation in indian: Prof-specialty\n",
            "===First Question===\n",
            "White                 27816\n",
            "Black                  3124\n",
            "Asian-Pac-Islander     1039\n",
            "Amer-Indian-Eskimo      311\n",
            "Other                   271\n",
            "Name: race, dtype: int64\n",
            "===Second Question===\n",
            "Average Age of Man: 39\n",
            "===Third Question===\n",
            "percentage: 16\n",
            "===Fourth Question===\n",
            "percentage of BA,MA,PHD: 11\n",
            "===Fifth Question===\n",
            "17\n",
            "===Sixth Question===\n",
            "Miumam Working Hourse: 1\n",
            "===Seventh Question===\n",
            "Minumam workig hours>50k salary: 10.0\n",
            "===Eighth Question===\n"
          ]
        },
        {
          "output_type": "stream",
          "name": "stderr",
          "text": [
            "EE"
          ]
        },
        {
          "output_type": "stream",
          "name": "stdout",
          "text": [
            "The country is Iran\n",
            "The percentage is 42.00%\n",
            "===Ninth Question===\n",
            "most popular occupation in indian: Prof-specialty\n",
            "===First Question===\n",
            "White                 27816\n",
            "Black                  3124\n",
            "Asian-Pac-Islander     1039\n",
            "Amer-Indian-Eskimo      311\n",
            "Other                   271\n",
            "Name: race, dtype: int64\n",
            "===Second Question===\n",
            "Average Age of Man: 39\n",
            "===Third Question===\n",
            "percentage: 16\n",
            "===Fourth Question===\n",
            "percentage of BA,MA,PHD: 11\n",
            "===Fifth Question===\n",
            "17\n",
            "===Sixth Question===\n",
            "Miumam Working Hourse: 1\n",
            "===Seventh Question===\n",
            "Minumam workig hours>50k salary: 10.0\n",
            "===Eighth Question===\n",
            "The country is Iran\n",
            "The percentage is 42.00%\n",
            "===Ninth Question===\n",
            "most popular occupation in indian: Prof-specialty\n"
          ]
        },
        {
          "output_type": "stream",
          "name": "stderr",
          "text": [
            "E\n",
            "======================================================================\n",
            "ERROR: test_average_age_men (__main__.DemographicAnalyzerTestCase)\n",
            "----------------------------------------------------------------------\n",
            "Traceback (most recent call last):\n",
            "  File \"<ipython-input-29-231cb9eaaef7>\", line 15, in test_average_age_men\n",
            "    actual = self.data[\"age_men\"]\n",
            "TypeError: 'int' object is not subscriptable\n",
            "\n",
            "======================================================================\n",
            "ERROR: test_higher_education_rich (__main__.DemographicAnalyzerTestCase)\n",
            "----------------------------------------------------------------------\n",
            "Traceback (most recent call last):\n",
            "  File \"<ipython-input-29-231cb9eaaef7>\", line 33, in test_higher_education_rich\n",
            "    actual = self.data[\"higher_education_rich\"]\n",
            "TypeError: 'int' object is not subscriptable\n",
            "\n",
            "======================================================================\n",
            "ERROR: test_highest_earning_country (__main__.DemographicAnalyzerTestCase)\n",
            "----------------------------------------------------------------------\n",
            "Traceback (most recent call last):\n",
            "  File \"<ipython-input-29-231cb9eaaef7>\", line 69, in test_highest_earning_country\n",
            "    actual = self.data[\"highest_earning_country\"]\n",
            "TypeError: 'int' object is not subscriptable\n",
            "\n",
            "======================================================================\n",
            "ERROR: test_highest_earning_country_percentage (__main__.DemographicAnalyzerTestCase)\n",
            "----------------------------------------------------------------------\n",
            "Traceback (most recent call last):\n",
            "  File \"<ipython-input-29-231cb9eaaef7>\", line 78, in test_highest_earning_country_percentage\n",
            "    actual = self.data[\"highest_earning_country_percentage\"]\n",
            "TypeError: 'int' object is not subscriptable\n",
            "\n",
            "======================================================================\n",
            "ERROR: test_lower_education_rich (__main__.DemographicAnalyzerTestCase)\n",
            "----------------------------------------------------------------------\n",
            "Traceback (most recent call last):\n",
            "  File \"<ipython-input-29-231cb9eaaef7>\", line 42, in test_lower_education_rich\n",
            "    actual = self.data[\"lower_education_rich\"]\n",
            "TypeError: 'int' object is not subscriptable\n",
            "\n",
            "======================================================================\n",
            "ERROR: test_min_work_hours (__main__.DemographicAnalyzerTestCase)\n",
            "----------------------------------------------------------------------\n",
            "Traceback (most recent call last):\n",
            "  File \"<ipython-input-29-231cb9eaaef7>\", line 51, in test_min_work_hours\n",
            "    actual = self.data[\"min_work_hours\"]\n",
            "TypeError: 'int' object is not subscriptable\n",
            "\n",
            "======================================================================\n",
            "ERROR: test_percentage_bachelors (__main__.DemographicAnalyzerTestCase)\n",
            "----------------------------------------------------------------------\n",
            "Traceback (most recent call last):\n",
            "  File \"<ipython-input-29-231cb9eaaef7>\", line 24, in test_percentage_bachelors\n",
            "    actual = self.data[\"percentage_bachelors\"]\n",
            "TypeError: 'int' object is not subscriptable\n",
            "\n",
            "======================================================================\n",
            "ERROR: test_race_count (__main__.DemographicAnalyzerTestCase)\n",
            "----------------------------------------------------------------------\n",
            "Traceback (most recent call last):\n",
            "  File \"<ipython-input-29-231cb9eaaef7>\", line 6, in test_race_count\n",
            "    actual = self.data[\"race_count\"].tolist()\n",
            "TypeError: 'int' object is not subscriptable\n",
            "\n",
            "======================================================================\n",
            "ERROR: test_rich_percentage (__main__.DemographicAnalyzerTestCase)\n",
            "----------------------------------------------------------------------\n",
            "Traceback (most recent call last):\n",
            "  File \"<ipython-input-29-231cb9eaaef7>\", line 60, in test_rich_percentage\n",
            "    actual = self.data[\"rich_percentage\"]\n",
            "TypeError: 'int' object is not subscriptable\n",
            "\n",
            "======================================================================\n",
            "ERROR: test_top_IN_occupation (__main__.DemographicAnalyzerTestCase)\n",
            "----------------------------------------------------------------------\n",
            "Traceback (most recent call last):\n",
            "  File \"<ipython-input-29-231cb9eaaef7>\", line 87, in test_top_IN_occupation\n",
            "    actual = self.data[\"top_IN_occupation\"]\n",
            "TypeError: 'int' object is not subscriptable\n",
            "\n",
            "----------------------------------------------------------------------\n",
            "Ran 10 tests in 1.829s\n",
            "\n",
            "FAILED (errors=10)\n"
          ]
        },
        {
          "output_type": "stream",
          "name": "stdout",
          "text": [
            "===First Question===\n",
            "White                 27816\n",
            "Black                  3124\n",
            "Asian-Pac-Islander     1039\n",
            "Amer-Indian-Eskimo      311\n",
            "Other                   271\n",
            "Name: race, dtype: int64\n",
            "===Second Question===\n",
            "Average Age of Man: 39\n",
            "===Third Question===\n",
            "percentage: 16\n",
            "===Fourth Question===\n",
            "percentage of BA,MA,PHD: 11\n",
            "===Fifth Question===\n",
            "17\n",
            "===Sixth Question===\n",
            "Miumam Working Hourse: 1\n",
            "===Seventh Question===\n",
            "Minumam workig hours>50k salary: 10.0\n",
            "===Eighth Question===\n",
            "The country is Iran\n",
            "The percentage is 42.00%\n",
            "===Ninth Question===\n",
            "most popular occupation in indian: Prof-specialty\n"
          ]
        }
      ]
    }
  ]
}