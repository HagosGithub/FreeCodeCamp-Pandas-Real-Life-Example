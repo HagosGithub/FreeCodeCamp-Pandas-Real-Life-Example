{
  "cells": [
    {
      "cell_type": "markdown",
      "metadata": {
        "id": "view-in-github",
        "colab_type": "text"
      },
      "source": [
        "<a href=\"https://colab.research.google.com/github/HagosGithub/FreeCodeCamp-Pandas-Real-Life-Example/blob/master/mean_var_std_py.ipynb\" target=\"_parent\"><img src=\"https://colab.research.google.com/assets/colab-badge.svg\" alt=\"Open In Colab\"/></a>"
      ]
    },
    {
      "cell_type": "markdown",
      "metadata": {
        "id": "CxPPvMrIe7Al"
      },
      "source": [
        "create a function \"calculate()\" in the file ame \"mean_var_std.py"
      ]
    },
    {
      "cell_type": "code",
      "execution_count": null,
      "metadata": {
        "id": "eB11WdA8Hh55"
      },
      "outputs": [],
      "source": []
    },
    {
      "cell_type": "code",
      "execution_count": null,
      "metadata": {
        "id": "r_idoFWqeU94"
      },
      "outputs": [],
      "source": [
        "import numpy as np"
      ]
    },
    {
      "cell_type": "code",
      "execution_count": null,
      "metadata": {
        "id": "szy3kXxWf_vR"
      },
      "outputs": [],
      "source": [
        "def calculate(arr):\n",
        "    if len(arr) != 9:\n",
        "      raise ValueError(\"List must contain nine numbers.\")\n",
        "    n=np.array(arr).reshape([3,3])\n",
        "    print(n)\n",
        "    r = {\n",
        "        \"mean\":[n.mean(0).tolist(),n.mean(1).tolist(),n.mean()],\n",
        "       \"Variance\":[n.var(0).tolist(),n.var(1).tolist(),n.var()],\n",
        "        \"standard deviation\":[n.std(0).tolist(),n.std(1).tolist(),n.std()],\n",
        "       \"Max\":[n.max(0).tolist(),n.max(1).tolist(),n.max()],\n",
        "       \"min\":[n.min(0).tolist(),n.min(1).tolist(),n.min()],\n",
        "       \"sum\":[n.sum(0).tolist(),n.sum(1).tolist(),n.sum()],\n",
        "       }\n",
        "    return r\n"
      ]
    },
    {
      "cell_type": "code",
      "execution_count": null,
      "metadata": {
        "colab": {
          "base_uri": "https://localhost:8080/"
        },
        "id": "KWx-xuhjleVG",
        "outputId": "e592e535-8d47-475b-d2b9-4aa808ae2c9c"
      },
      "outputs": [
        {
          "output_type": "stream",
          "name": "stdout",
          "text": [
            "[[0 1 2]\n",
            " [3 4 5]\n",
            " [6 7 8]]\n",
            "{'mean': [[3.0, 4.0, 5.0], [1.0, 4.0, 7.0], 4.0], 'Variance': [[6.0, 6.0, 6.0], [0.6666666666666666, 0.6666666666666666, 0.6666666666666666], 6.666666666666667], 'standard deviation': [[2.449489742783178, 2.449489742783178, 2.449489742783178], [0.816496580927726, 0.816496580927726, 0.816496580927726], 2.581988897471611], 'Max': [[6, 7, 8], [2, 5, 8], 8], 'min': [[0, 1, 2], [0, 3, 6], 0], 'sum': [[9, 12, 15], [3, 12, 21], 36]}\n"
          ]
        }
      ],
      "source": [
        "print(calculate([0,1,2,3,4,5,6,7,8]))"
      ]
    },
    {
      "cell_type": "markdown",
      "source": [
        "##Test"
      ],
      "metadata": {
        "id": "kx_28cRkKXx3"
      }
    },
    {
      "cell_type": "code",
      "source": [
        "import unittest"
      ],
      "metadata": {
        "id": "26jog2UKKWcj"
      },
      "execution_count": null,
      "outputs": []
    },
    {
      "cell_type": "code",
      "source": [
        "class UnitTests(unittest.TestCase):\n",
        "    def test_calculate(self):\n",
        "        actual = calculate([2, 6, 2, 8, 4, 0, 1, 5, 7])\n",
        "        expected = {\n",
        "            \"mean\": [\n",
        "                [3.6666666666666665, 5.0, 3.0],\n",
        "                [3.3333333333333335, 4.0, 4.333333333333333],\n",
        "                3.888888888888889,\n",
        "            ],\n",
        "            \"variance\": [\n",
        "                [9.555555555555557, 0.6666666666666666, 8.666666666666666],\n",
        "                [3.555555555555556, 10.666666666666666, 6.222222222222221],\n",
        "                6.987654320987654,\n",
        "            ],\n",
        "            \"standard deviation\": [\n",
        "                [3.091206165165235, 0.816496580927726, 2.943920288775949],\n",
        "                [1.8856180831641267, 3.265986323710904, 2.494438257849294],\n",
        "                2.6434171674156266,\n",
        "            ],\n",
        "            \"max\": [[8, 6, 7], [6, 8, 7], 8],\n",
        "            \"min\": [[1, 4, 0], [2, 0, 1], 0],\n",
        "            \"sum\": [[11, 15, 9], [10, 12, 13], 35],\n",
        "        }\n",
        "        self.assertAlmostEqual(\n",
        "            actual,\n",
        "            expected,\n",
        "            \"Expected different output when calling 'calculate()' with '[2,6,2,8,4,0,1,5,7]'\",\n",
        "        )\n",
        "\n",
        "    def test_calculate2(self):\n",
        "        actual = calculate([9, 1, 5, 3, 3, 3, 2, 9, 0])\n",
        "        expected = {\n",
        "            \"mean\": [\n",
        "                [4.666666666666667, 4.333333333333333, 2.6666666666666665],\n",
        "                [5.0, 3.0, 3.6666666666666665],\n",
        "                3.888888888888889,\n",
        "            ],\n",
        "            \"variance\": [\n",
        "                [9.555555555555555, 11.555555555555557, 4.222222222222222],\n",
        "                [10.666666666666666, 0.0, 14.888888888888891],\n",
        "                9.209876543209875,\n",
        "            ],\n",
        "            \"standard deviation\": [\n",
        "                [3.0912061651652345, 3.39934634239519, 2.0548046676563256],\n",
        "                [3.265986323710904, 0.0, 3.8586123009300755],\n",
        "                3.0347778408328137,\n",
        "            ],\n",
        "            \"max\": [[9, 9, 5], [9, 3, 9], 9],\n",
        "            \"min\": [[2, 1, 0], [1, 3, 0], 0],\n",
        "            \"sum\": [[14, 13, 8], [15, 9, 11], 35],\n",
        "        }\n",
        "        self.assertAlmostEqual(\n",
        "            actual,\n",
        "            expected,\n",
        "            \"Expected different output when calling 'calculate()' with '[9,1,5,3,3,3,2,9,0]'\",\n",
        "        )\n",
        "\n",
        "    def test_calculate_with_few_digits(self):\n",
        "        self.assertRaisesRegex(\n",
        "            ValueError,\n",
        "            \"List must contain nine numbers.\",\n",
        "            calculate,\n",
        "            [\n",
        "                2,\n",
        "                6,\n",
        "                2,\n",
        "                8,\n",
        "                4,\n",
        "                0,\n",
        "                1,\n",
        "            ],\n",
        "        )"
      ],
      "metadata": {
        "id": "x1eaDaxwKtuL"
      },
      "execution_count": null,
      "outputs": []
    },
    {
      "cell_type": "code",
      "source": [
        "if __name__ == \"__main__\":\n",
        "    unittest.main(argv=[\"first-arg-is-ignored\"], exit=False)"
      ],
      "metadata": {
        "id": "okdBcgeOMxIM",
        "outputId": "32f3f55d-253b-4741-c00b-79677478ed73",
        "colab": {
          "base_uri": "https://localhost:8080/"
        }
      },
      "execution_count": null,
      "outputs": [
        {
          "output_type": "stream",
          "name": "stderr",
          "text": [
            "EE.\n",
            "======================================================================\n",
            "ERROR: test_calculate (__main__.UnitTests)\n",
            "----------------------------------------------------------------------\n",
            "Traceback (most recent call last):\n",
            "  File \"<ipython-input-11-493c1f1e3422>\", line 24, in test_calculate\n",
            "    self.assertAlmostEqual(\n",
            "  File \"/usr/lib/python3.10/unittest/case.py\", line 876, in assertAlmostEqual\n",
            "    diff = abs(first - second)\n",
            "TypeError: unsupported operand type(s) for -: 'dict' and 'dict'\n",
            "\n",
            "======================================================================\n",
            "ERROR: test_calculate2 (__main__.UnitTests)\n",
            "----------------------------------------------------------------------\n",
            "Traceback (most recent call last):\n",
            "  File \"<ipython-input-11-493c1f1e3422>\", line 52, in test_calculate2\n",
            "    self.assertAlmostEqual(\n",
            "  File \"/usr/lib/python3.10/unittest/case.py\", line 876, in assertAlmostEqual\n",
            "    diff = abs(first - second)\n",
            "TypeError: unsupported operand type(s) for -: 'dict' and 'dict'\n",
            "\n",
            "----------------------------------------------------------------------\n",
            "Ran 3 tests in 0.013s\n",
            "\n",
            "FAILED (errors=2)\n"
          ]
        },
        {
          "output_type": "stream",
          "name": "stdout",
          "text": [
            "[[2 6 2]\n",
            " [8 4 0]\n",
            " [1 5 7]]\n",
            "[[9 1 5]\n",
            " [3 3 3]\n",
            " [2 9 0]]\n"
          ]
        }
      ]
    }
  ],
  "metadata": {
    "colab": {
      "provenance": [],
      "authorship_tag": "ABX9TyMnupBBhBP7Zq6zdf2QfQtL",
      "include_colab_link": true
    },
    "kernelspec": {
      "display_name": "Python 3",
      "name": "python3"
    },
    "language_info": {
      "name": "python"
    }
  },
  "nbformat": 4,
  "nbformat_minor": 0
}